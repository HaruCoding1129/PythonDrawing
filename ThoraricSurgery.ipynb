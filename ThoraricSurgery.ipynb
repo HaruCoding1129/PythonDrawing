{
  "nbformat": 4,
  "nbformat_minor": 0,
  "metadata": {
    "colab": {
      "name": "ThoraricSurgery.ipynb",
      "provenance": [],
      "include_colab_link": true
    },
    "kernelspec": {
      "name": "python3",
      "display_name": "Python 3"
    }
  },
  "cells": [
    {
      "cell_type": "markdown",
      "metadata": {
        "id": "view-in-github",
        "colab_type": "text"
      },
      "source": [
        "<a href=\"https://colab.research.google.com/github/HaruCoding1129/PythonDrawing/blob/master/ThoraricSurgery.ipynb\" target=\"_parent\"><img src=\"https://colab.research.google.com/assets/colab-badge.svg\" alt=\"Open In Colab\"/></a>"
      ]
    },
    {
      "cell_type": "code",
      "metadata": {
        "id": "54I6s4opMueb",
        "colab_type": "code",
        "colab": {
          "base_uri": "https://localhost:8080/",
          "height": 34
        },
        "outputId": "155f6a11-606a-4c74-cfd2-de0bfb916779"
      },
      "source": [
        "from keras.models import Sequential\n",
        "from keras.layers import Dense"
      ],
      "execution_count": 1,
      "outputs": [
        {
          "output_type": "stream",
          "text": [
            "Using TensorFlow backend.\n"
          ],
          "name": "stderr"
        }
      ]
    },
    {
      "cell_type": "code",
      "metadata": {
        "id": "rzLaEmc9Mzua",
        "colab_type": "code",
        "colab": {}
      },
      "source": [
        "import numpy\n",
        "import tensorflow as tf"
      ],
      "execution_count": 0,
      "outputs": []
    },
    {
      "cell_type": "code",
      "metadata": {
        "id": "0v02v3_uM69i",
        "colab_type": "code",
        "colab": {}
      },
      "source": [
        "seed = 0\n",
        "numpy.random.seed(seed)\n",
        "tf.set_random_seed(seed)"
      ],
      "execution_count": 0,
      "outputs": []
    },
    {
      "cell_type": "code",
      "metadata": {
        "id": "fNPSEG8oM_xQ",
        "colab_type": "code",
        "colab": {}
      },
      "source": [
        "Data_set = numpy.loadtxt(\"/content/drive/My Drive/deeplearning/dataset/ThoraricSurgery.csv\", delimiter=\",\")"
      ],
      "execution_count": 0,
      "outputs": []
    },
    {
      "cell_type": "code",
      "metadata": {
        "id": "SGop0nYkNaFf",
        "colab_type": "code",
        "colab": {}
      },
      "source": [
        "X = Data_set[:, 0:17]\n",
        "Y = Data_set[:, 17]"
      ],
      "execution_count": 0,
      "outputs": []
    },
    {
      "cell_type": "code",
      "metadata": {
        "id": "hIs-5ydhNfat",
        "colab_type": "code",
        "colab": {}
      },
      "source": [
        "model = Sequential()\n",
        "model.add(Dense(30, input_dim=17, activation='relu'))\n",
        "model.add(Dense(1, activation='sigmoid'))"
      ],
      "execution_count": 0,
      "outputs": []
    },
    {
      "cell_type": "code",
      "metadata": {
        "id": "iPibfyQMNtup",
        "colab_type": "code",
        "colab": {
          "base_uri": "https://localhost:8080/",
          "height": 1000
        },
        "outputId": "d0cbf66a-3d11-4bca-e8c2-574813fef162"
      },
      "source": [
        "model.compile(loss='mean_squared_error', optimizer='adam', metrics=['accuracy'])\n",
        "model.fit(X,Y, epochs=30, batch_size=10)"
      ],
      "execution_count": 9,
      "outputs": [
        {
          "output_type": "stream",
          "text": [
            "WARNING:tensorflow:From /usr/local/lib/python3.6/dist-packages/keras/optimizers.py:793: The name tf.train.Optimizer is deprecated. Please use tf.compat.v1.train.Optimizer instead.\n",
            "\n",
            "Epoch 1/30\n",
            "470/470 [==============================] - 1s 2ms/step - loss: 0.6656 - acc: 0.3064\n",
            "Epoch 2/30\n",
            "470/470 [==============================] - 0s 101us/step - loss: 0.1488 - acc: 0.8511\n",
            "Epoch 3/30\n",
            "470/470 [==============================] - 0s 104us/step - loss: 0.1488 - acc: 0.8511\n",
            "Epoch 4/30\n",
            "470/470 [==============================] - 0s 105us/step - loss: 0.1488 - acc: 0.8511\n",
            "Epoch 5/30\n",
            "470/470 [==============================] - 0s 108us/step - loss: 0.1488 - acc: 0.8511\n",
            "Epoch 6/30\n",
            "470/470 [==============================] - 0s 105us/step - loss: 0.1488 - acc: 0.8511\n",
            "Epoch 7/30\n",
            "470/470 [==============================] - 0s 120us/step - loss: 0.1487 - acc: 0.8511\n",
            "Epoch 8/30\n",
            "470/470 [==============================] - 0s 111us/step - loss: 0.1487 - acc: 0.8511\n",
            "Epoch 9/30\n",
            "470/470 [==============================] - 0s 131us/step - loss: 0.1487 - acc: 0.8511\n",
            "Epoch 10/30\n",
            "470/470 [==============================] - 0s 125us/step - loss: 0.1486 - acc: 0.8511\n",
            "Epoch 11/30\n",
            "470/470 [==============================] - 0s 129us/step - loss: 0.1498 - acc: 0.8447\n",
            "Epoch 12/30\n",
            "470/470 [==============================] - 0s 116us/step - loss: 0.1487 - acc: 0.8511\n",
            "Epoch 13/30\n",
            "470/470 [==============================] - 0s 121us/step - loss: 0.1485 - acc: 0.8511\n",
            "Epoch 14/30\n",
            "470/470 [==============================] - 0s 109us/step - loss: 0.1483 - acc: 0.8511\n",
            "Epoch 15/30\n",
            "470/470 [==============================] - 0s 127us/step - loss: 0.1485 - acc: 0.8511\n",
            "Epoch 16/30\n",
            "470/470 [==============================] - 0s 153us/step - loss: 0.1491 - acc: 0.8447\n",
            "Epoch 17/30\n",
            "470/470 [==============================] - 0s 125us/step - loss: 0.1479 - acc: 0.8489\n",
            "Epoch 18/30\n",
            "470/470 [==============================] - 0s 127us/step - loss: 0.1482 - acc: 0.8468\n",
            "Epoch 19/30\n",
            "470/470 [==============================] - 0s 112us/step - loss: 0.1477 - acc: 0.8511\n",
            "Epoch 20/30\n",
            "470/470 [==============================] - 0s 104us/step - loss: 0.1480 - acc: 0.8511\n",
            "Epoch 21/30\n",
            "470/470 [==============================] - 0s 110us/step - loss: 0.1475 - acc: 0.8511\n",
            "Epoch 22/30\n",
            "470/470 [==============================] - 0s 121us/step - loss: 0.1470 - acc: 0.8511\n",
            "Epoch 23/30\n",
            "470/470 [==============================] - 0s 109us/step - loss: 0.1467 - acc: 0.8511\n",
            "Epoch 24/30\n",
            "470/470 [==============================] - 0s 108us/step - loss: 0.1476 - acc: 0.8489\n",
            "Epoch 25/30\n",
            "470/470 [==============================] - 0s 106us/step - loss: 0.1471 - acc: 0.8511\n",
            "Epoch 26/30\n",
            "470/470 [==============================] - 0s 112us/step - loss: 0.1466 - acc: 0.8511\n",
            "Epoch 27/30\n",
            "470/470 [==============================] - 0s 130us/step - loss: 0.1473 - acc: 0.8511\n",
            "Epoch 28/30\n",
            "470/470 [==============================] - 0s 107us/step - loss: 0.1471 - acc: 0.8489\n",
            "Epoch 29/30\n",
            "470/470 [==============================] - 0s 103us/step - loss: 0.1471 - acc: 0.8489\n",
            "Epoch 30/30\n",
            "470/470 [==============================] - 0s 103us/step - loss: 0.1462 - acc: 0.8532\n"
          ],
          "name": "stdout"
        },
        {
          "output_type": "execute_result",
          "data": {
            "text/plain": [
              "<keras.callbacks.History at 0x7ffb0ec7ceb8>"
            ]
          },
          "metadata": {
            "tags": []
          },
          "execution_count": 9
        }
      ]
    },
    {
      "cell_type": "code",
      "metadata": {
        "id": "t3DXvcRBN63L",
        "colab_type": "code",
        "colab": {
          "base_uri": "https://localhost:8080/",
          "height": 69
        },
        "outputId": "16ccfb6a-d7bd-41ae-8561-7163ce60c89a"
      },
      "source": [
        "print(\"\\n Accuracy: %.4f\" % (model.evaluate(X,Y)[1]))"
      ],
      "execution_count": 10,
      "outputs": [
        {
          "output_type": "stream",
          "text": [
            "470/470 [==============================] - 0s 112us/step\n",
            "\n",
            " Accuracy: 0.8511\n"
          ],
          "name": "stdout"
        }
      ]
    }
  ]
}